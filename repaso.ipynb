{
 "cells": [
  {
   "cell_type": "markdown",
   "id": "cd25e638",
   "metadata": {},
   "source": [
    "# Curso de Repaso de Python"
   ]
  },
  {
   "cell_type": "markdown",
   "id": "9e48d1c1",
   "metadata": {},
   "source": [
    "## Fundamentos de Python"
   ]
  },
  {
   "cell_type": "code",
   "execution_count": 7,
   "id": "4f0afaa2",
   "metadata": {},
   "outputs": [
    {
     "name": "stdout",
     "output_type": "stream",
     "text": [
      "Suma:  15\n",
      "Multiplicacion:  50\n",
      "Resta:  5\n",
      "Division:  2.0\n",
      "Modulo:  0\n",
      "Exponente:  100000\n",
      "Texto:  Hola Mundo\n",
      "Lista:  [1, 2, 3, 4, 5, 'texto']\n",
      "Tupla:  (1, 2, 3, 4, 5, 'texto')\n"
     ]
    }
   ],
   "source": [
    "a = 10\n",
    "b = 5\n",
    "print('Suma: ',a+b)\n",
    "print('Multiplicacion: ',a*b)\n",
    "print('Resta: ',a-b)\n",
    "print('Division: ',a/b)\n",
    "print('Modulo: ',a%b)\n",
    "print('Exponente: ',a**b)\n",
    "\n",
    "texto = \"Hola Mundo\"\n",
    "print('Texto: ', texto)\n",
    "\n",
    "lista = [1, 2, 3, 4, 5,\"texto\"]\n",
    "print('Lista: ', lista)\n",
    "tupla = (1, 2, 3, 4, 5,\"texto\")\n",
    "print('Tupla: ', tupla)"
   ]
  },
  {
   "cell_type": "markdown",
   "id": "f8869de6",
   "metadata": {},
   "source": [
    "## Programación Orientada a Objetos"
   ]
  },
  {
   "cell_type": "code",
   "execution_count": 12,
   "id": "f8934846",
   "metadata": {},
   "outputs": [
    {
     "name": "stdout",
     "output_type": "stream",
     "text": [
      "Pozo Pozo A - Producción: 1000 barriles/día, Presión: 300 psi\n",
      "Pozo Pozo B - Producción: 1500 barriles/día, Presión: 350 psi\n",
      "Pozo Pozo A - Producción: 0 barriles/día, Presión: 300 psi\n",
      "Pozo Pozo B - Producción: 1500 barriles/día, Presión: 350 psi\n",
      "2020 Toyota Corolla - Tipo: Sedán, Ruedas: 4\n",
      "2021 Yamaha MT-07 - Tipo: Motocicleta, Ruedas: 2\n"
     ]
    }
   ],
   "source": [
    "class PozoPetrolero:\n",
    "    def __init__(self, nombre, produccion, presion_diaria):\n",
    "        self.nombre = nombre\n",
    "        self.produccion = produccion\n",
    "        self.presion_diaria = presion_diaria\n",
    "    def eliminarProduccion(self):\n",
    "        self.produccion = 0\n",
    "\n",
    "    def descripcion(self):\n",
    "        return f\"Pozo {self.nombre} - Producción: {self.produccion} barriles/día, Presión: {self.presion_diaria} psi\"\n",
    "\n",
    "pozo1 = PozoPetrolero(\"Pozo A\", 1000, 300)\n",
    "pozo2 = PozoPetrolero(\"Pozo B\", 1500, 350)\n",
    "\n",
    "print(pozo1.descripcion())\n",
    "print(pozo2.descripcion())\n",
    "pozo1.eliminarProduccion()\n",
    "print(pozo1.descripcion())\n",
    "print(pozo2.descripcion())\n",
    "\n",
    "class Vehiculo:\n",
    "    def __init__(self, marca, modelo, anio, tipo, numero_ruedas=4):\n",
    "        self.marca = marca\n",
    "        self.modelo = modelo\n",
    "        self.anio = anio\n",
    "        self.tipo = tipo\n",
    "        self.numero_ruedas = numero_ruedas\n",
    "\n",
    "    def descripcion(self):\n",
    "        return f\"{self.anio} {self.marca} {self.modelo} - Tipo: {self.tipo}, Ruedas: {self.numero_ruedas}\"\n",
    "vehiculo1 = Vehiculo(\"Toyota\", \"Corolla\", 2020, \"Sedán\",4)\n",
    "moto = Vehiculo(\"Yamaha\", \"MT-07\", 2021, \"Motocicleta\",2)\n",
    "\n",
    "print(vehiculo1.descripcion())\n",
    "print(moto.descripcion())"
   ]
  },
  {
   "cell_type": "markdown",
   "id": "2c3af1bb",
   "metadata": {},
   "source": [
    "## Operaciones con Listas"
   ]
  },
  {
   "cell_type": "code",
   "execution_count": 16,
   "id": "6c5b741a",
   "metadata": {},
   "outputs": [
    {
     "name": "stdout",
     "output_type": "stream",
     "text": [
      "Suma:  650\n",
      "Promedio:  130.0\n",
      "Maximo:  140\n",
      "Minimo:  120\n"
     ]
    }
   ],
   "source": [
    "produccion_diaria = [120,130,125,140,135]\n",
    "print('Suma: ',sum(produccion_diaria))\n",
    "print('Promedio: ',sum(produccion_diaria)/len(produccion_diaria))\n",
    "print('Maximo: ',max(produccion_diaria))\n",
    "print('Minimo: ',min(produccion_diaria))"
   ]
  },
  {
   "cell_type": "markdown",
   "id": "8f8ca45c",
   "metadata": {},
   "source": [
    "## Análisis Estadístico con NumPy"
   ]
  },
  {
   "cell_type": "code",
   "execution_count": 18,
   "id": "77e1251e",
   "metadata": {},
   "outputs": [
    {
     "name": "stdout",
     "output_type": "stream",
     "text": [
      "Suma:  650\n",
      "Promedio:  130.0\n",
      "Maximo:  140\n",
      "Minimo:  120\n"
     ]
    }
   ],
   "source": [
    "import numpy as np\n",
    "\n",
    "datos = np.array(produccion_diaria)\n",
    "\n",
    "print('Suma: ',np.sum(datos))\n",
    "print('Promedio: ',np.mean(datos))\n",
    "print('Maximo: ',np.max(datos))\n",
    "print('Minimo: ',np.min(datos))"
   ]
  },
  {
   "cell_type": "markdown",
   "id": "0c5470e6",
   "metadata": {},
   "source": [
    "## Análisis con pandas"
   ]
  },
  {
   "cell_type": "code",
   "execution_count": null,
   "id": "872bed37",
   "metadata": {},
   "outputs": [
    {
     "name": "stdout",
     "output_type": "stream",
     "text": [
      "Suma:  650\n",
      "Promedio:  130.0\n",
      "Maximo:  140\n",
      "Minimo:  120\n",
      "  PozoPetrolero  Produccion  Presion\n",
      "0        Pozo A        1000      300\n",
      "1        Pozo B        1500      350\n",
      "2        Pozo C        1233      320\n",
      "        Produccion     Presion\n",
      "count     3.000000    3.000000\n",
      "mean   1244.333333  323.333333\n",
      "std     250.192592   25.166115\n",
      "min    1000.000000  300.000000\n",
      "25%    1116.500000  310.000000\n",
      "50%    1233.000000  320.000000\n",
      "75%    1366.500000  335.000000\n",
      "max    1500.000000  350.000000\n",
      "  PozoPetrolero  Produccion  Presion\n",
      "0        Pozo A        1000      300\n"
     ]
    }
   ],
   "source": [
    "import pandas as pd\n",
    "\n",
    "series = pd.Series(produccion_diaria)\n",
    "\n",
    "print('Suma: ',series.sum())\n",
    "print('Promedio: ',series.mean())\n",
    "print('Maximo: ',series.max())\n",
    "print('Minimo: ',series.min())\n",
    "\n",
    "df = pd.DataFrame({\n",
    "    'PozoPetrolero': ['Pozo A', 'Pozo B', 'Pozo C'],\n",
    "    'Produccion': [1000, 1500, 1233],\n",
    "    'Presion': [300, 350, 320]\n",
    "})\n",
    "print(df.head())\n",
    "\n",
    "print(df.describe())\n",
    "\n",
    "# pozo A\n",
    "pozo_a = df[df['PozoPetrolero'] == 'Pozo A']\n",
    "print(pozo_a)\n",
    "\n",
    "#cargar datafram desde archivo csv  \n"
   ]
  },
  {
   "cell_type": "code",
   "execution_count": 75,
   "id": "91f9a957",
   "metadata": {},
   "outputs": [],
   "source": [
    "df = pd.read_csv('datos/produccion_petrolera_1000.csv');"
   ]
  },
  {
   "cell_type": "code",
   "execution_count": 73,
   "id": "977d3938",
   "metadata": {},
   "outputs": [
    {
     "data": {
      "text/html": [
       "<div>\n",
       "<style scoped>\n",
       "    .dataframe tbody tr th:only-of-type {\n",
       "        vertical-align: middle;\n",
       "    }\n",
       "\n",
       "    .dataframe tbody tr th {\n",
       "        vertical-align: top;\n",
       "    }\n",
       "\n",
       "    .dataframe thead th {\n",
       "        text-align: right;\n",
       "    }\n",
       "</style>\n",
       "<table border=\"1\" class=\"dataframe\">\n",
       "  <thead>\n",
       "    <tr style=\"text-align: right;\">\n",
       "      <th></th>\n",
       "      <th>Fecha</th>\n",
       "      <th>Produccion_Barriles</th>\n",
       "      <th>Presion_PSI</th>\n",
       "    </tr>\n",
       "    <tr>\n",
       "      <th>Pozo</th>\n",
       "      <th></th>\n",
       "      <th></th>\n",
       "      <th></th>\n",
       "    </tr>\n",
       "  </thead>\n",
       "  <tbody>\n",
       "    <tr>\n",
       "      <th>PZ-005</th>\n",
       "      <td>2024-05-31</td>\n",
       "      <td>1926</td>\n",
       "      <td>2383</td>\n",
       "    </tr>\n",
       "    <tr>\n",
       "      <th>PZ-004</th>\n",
       "      <td>2024-12-17</td>\n",
       "      <td>1744</td>\n",
       "      <td>2365</td>\n",
       "    </tr>\n",
       "    <tr>\n",
       "      <th>PZ-001</th>\n",
       "      <td>2024-04-04</td>\n",
       "      <td>1245</td>\n",
       "      <td>2235</td>\n",
       "    </tr>\n",
       "    <tr>\n",
       "      <th>PZ-002</th>\n",
       "      <td>2024-01-20</td>\n",
       "      <td>1793</td>\n",
       "      <td>2450</td>\n",
       "    </tr>\n",
       "    <tr>\n",
       "      <th>PZ-001</th>\n",
       "      <td>2024-10-20</td>\n",
       "      <td>1539</td>\n",
       "      <td>2397</td>\n",
       "    </tr>\n",
       "  </tbody>\n",
       "</table>\n",
       "</div>"
      ],
      "text/plain": [
       "             Fecha  Produccion_Barriles  Presion_PSI\n",
       "Pozo                                                \n",
       "PZ-005  2024-05-31                 1926         2383\n",
       "PZ-004  2024-12-17                 1744         2365\n",
       "PZ-001  2024-04-04                 1245         2235\n",
       "PZ-002  2024-01-20                 1793         2450\n",
       "PZ-001  2024-10-20                 1539         2397"
      ]
     },
     "execution_count": 73,
     "metadata": {},
     "output_type": "execute_result"
    }
   ],
   "source": [
    "df.head(5)"
   ]
  },
  {
   "cell_type": "code",
   "execution_count": 76,
   "id": "080ad2b6",
   "metadata": {},
   "outputs": [
    {
     "name": "stdout",
     "output_type": "stream",
     "text": [
      "       Pozo       Fecha  Produccion_Barriles  Presion_PSI\n",
      "3    PZ-002  2024-01-20                 1793         2450\n",
      "8    PZ-002  2024-04-18                 1489         2487\n",
      "14   PZ-002  2024-03-19                 1431         2273\n",
      "18   PZ-002  2024-01-10                 1753         2604\n",
      "30   PZ-002  2024-02-01                 1416         2411\n",
      "..      ...         ...                  ...          ...\n",
      "983  PZ-002  2024-10-30                 1364         2368\n",
      "984  PZ-002  2024-03-23                 1410         2678\n",
      "985  PZ-002  2024-10-31                 1775         2452\n",
      "995  PZ-002  2024-07-31                 1267         2469\n",
      "997  PZ-002  2024-12-16                 1346         2409\n",
      "\n",
      "[208 rows x 4 columns]\n"
     ]
    }
   ],
   "source": [
    "pz_002 = df[df['Pozo'] == 'PZ-002']\n",
    "print(pz_002)"
   ]
  },
  {
   "cell_type": "code",
   "execution_count": 49,
   "id": "1c0b251c",
   "metadata": {},
   "outputs": [
    {
     "name": "stdout",
     "output_type": "stream",
     "text": [
      "PZ-001 Producción Total:  315631\n",
      "PZ-001 Media:  1578.155\n",
      "PZ-001 Mediana:  1558.5\n",
      "PZ-001 Desviación Estándar:  229.9739792468993\n",
      "PZ-001 Varianza:  52888.03113065327\n",
      "PZ-001 Máximo:  1998\n",
      "PZ-001 Mínimo:  1201\n"
     ]
    }
   ],
   "source": [
    "pz_001 = df[df['Pozo']=='PZ-001']\n",
    "print('PZ-001 Producción Total: ',pz_001['Produccion_Barriles'].sum())\n",
    "print('PZ-001 Media: ',pz_001['Produccion_Barriles'].mean())\n",
    "print('PZ-001 Mediana: ',pz_001['Produccion_Barriles'].median())\n",
    "print('PZ-001 Desviación Estándar: ',pz_001['Produccion_Barriles'].std())\n",
    "print('PZ-001 Varianza: ',pz_001['Produccion_Barriles'].var())\n",
    "print('PZ-001 Máximo: ',pz_001['Produccion_Barriles'].max())\n",
    "print('PZ-001 Mínimo: ',pz_001['Produccion_Barriles'].min())"
   ]
  },
  {
   "cell_type": "code",
   "execution_count": null,
   "id": "59f14f05",
   "metadata": {},
   "outputs": [
    {
     "name": "stdout",
     "output_type": "stream",
     "text": [
      "['PZ-005' 'PZ-004' 'PZ-001' 'PZ-002' 'PZ-003']\n",
      "PZ-005\n",
      "==========Estadísticas para el pozo PZ-005==========\n",
      "PZ-005 Producción Total:  314886\n",
      "PZ-005 Media:  1574.43\n",
      "PZ-005 Mediana:  1560.5\n",
      "PZ-005 Desviación Estándar:  231.45993955345804\n",
      "PZ-005 Varianza:  53573.70361809045\n",
      "PZ-005 Máximo:  1996\n",
      "PZ-005 Mínimo:  1201\n",
      "PZ-004\n",
      "==========Estadísticas para el pozo PZ-004==========\n",
      "PZ-004 Producción Total:  311074\n",
      "PZ-004 Media:  1595.251282051282\n",
      "PZ-004 Mediana:  1616.0\n",
      "PZ-004 Desviación Estándar:  231.2794164871053\n",
      "PZ-004 Varianza:  53490.16849061591\n",
      "PZ-004 Máximo:  1998\n",
      "PZ-004 Mínimo:  1200\n",
      "PZ-001\n",
      "==========Estadísticas para el pozo PZ-001==========\n",
      "PZ-001 Producción Total:  315631\n",
      "PZ-001 Media:  1578.155\n",
      "PZ-001 Mediana:  1558.5\n",
      "PZ-001 Desviación Estándar:  229.9739792468993\n",
      "PZ-001 Varianza:  52888.03113065327\n",
      "PZ-001 Máximo:  1998\n",
      "PZ-001 Mínimo:  1201\n",
      "PZ-002\n",
      "==========Estadísticas para el pozo PZ-002==========\n",
      "PZ-002 Producción Total:  334771\n",
      "PZ-002 Media:  1609.4759615384614\n",
      "PZ-002 Mediana:  1630.0\n",
      "PZ-002 Desviación Estándar:  227.42411676856054\n",
      "PZ-002 Varianza:  51721.728887959864\n",
      "PZ-002 Máximo:  1991\n",
      "PZ-002 Mínimo:  1200\n",
      "PZ-003\n",
      "==========Estadísticas para el pozo PZ-003==========\n",
      "PZ-003 Producción Total:  322991\n",
      "PZ-003 Media:  1639.548223350254\n",
      "PZ-003 Mediana:  1658.0\n",
      "PZ-003 Desviación Estándar:  226.13503722467007\n",
      "PZ-003 Varianza:  51137.05506060292\n",
      "PZ-003 Máximo:  1997\n",
      "PZ-003 Mínimo:  1212\n",
      "==========Estadísticas para el pozo PZ-005==========\n",
      "PZ-005 Producción Total:  314886\n",
      "PZ-005 Media:  1574.43\n",
      "PZ-005 Mediana:  1560.5\n",
      "PZ-005 Desviación Estándar:  231.45993955345804\n",
      "PZ-005 Varianza:  53573.70361809045\n",
      "PZ-005 Máximo:  1996\n",
      "PZ-005 Mínimo:  1201\n",
      "==========Estadísticas para el pozo PZ-004==========\n",
      "PZ-004 Producción Total:  311074\n",
      "PZ-004 Media:  1595.251282051282\n",
      "PZ-004 Mediana:  1616.0\n",
      "PZ-004 Desviación Estándar:  231.2794164871053\n",
      "PZ-004 Varianza:  53490.16849061591\n",
      "PZ-004 Máximo:  1998\n",
      "PZ-004 Mínimo:  1200\n",
      "==========Estadísticas para el pozo PZ-001==========\n",
      "PZ-001 Producción Total:  315631\n",
      "PZ-001 Media:  1578.155\n",
      "PZ-001 Mediana:  1558.5\n",
      "PZ-001 Desviación Estándar:  229.9739792468993\n",
      "PZ-001 Varianza:  52888.03113065327\n",
      "PZ-001 Máximo:  1998\n",
      "PZ-001 Mínimo:  1201\n",
      "==========Estadísticas para el pozo PZ-002==========\n",
      "PZ-002 Producción Total:  334771\n",
      "PZ-002 Media:  1609.4759615384614\n",
      "PZ-002 Mediana:  1630.0\n",
      "PZ-002 Desviación Estándar:  227.42411676856054\n",
      "PZ-002 Varianza:  51721.728887959864\n",
      "PZ-002 Máximo:  1991\n",
      "PZ-002 Mínimo:  1200\n",
      "==========Estadísticas para el pozo PZ-003==========\n",
      "PZ-003 Producción Total:  322991\n",
      "PZ-003 Media:  1639.548223350254\n",
      "PZ-003 Mediana:  1658.0\n",
      "PZ-003 Desviación Estándar:  226.13503722467007\n",
      "PZ-003 Varianza:  51137.05506060292\n",
      "PZ-003 Máximo:  1997\n",
      "PZ-003 Mínimo:  1212\n"
     ]
    }
   ],
   "source": [
    "#funcion para obtener las estadisticas de un pozo\n",
    "def estadisticas_pozo(df, pozo):\n",
    "    \n",
    "    pozo_analizado = df[df['Pozo']==pozo]\n",
    "    print(f'==========Estadísticas para el pozo {pozo}==========')\n",
    "    print(f'{pozo} Producción Total: ',pozo_analizado['Produccion_Barriles'].sum())\n",
    "    print(f'{pozo} Media: ',pozo_analizado['Produccion_Barriles'].mean())\n",
    "    print(f'{pozo} Mediana: ',pozo_analizado['Produccion_Barriles'].median())\n",
    "    print(f'{pozo} Desviación Estándar: ',pozo_analizado['Produccion_Barriles'].std())\n",
    "    print(f'{pozo} Varianza: ',pozo_analizado['Produccion_Barriles'].var())\n",
    "    print(f'{pozo} Máximo: ',pozo_analizado['Produccion_Barriles'].max())\n",
    "    print(f'{pozo} Mínimo: ',pozo_analizado['Produccion_Barriles'].min())\n",
    "\n",
    "def estadisticas_de_todos_los_pozos(df):\n",
    "    pozos = df['Pozo'].unique()\n",
    "    for pozo in pozos:\n",
    "        estadisticas_pozo(df, pozo)\n",
    "\n",
    "pozos = df['Pozo'].unique()\n",
    "print(pozos)\n",
    "for pozo in pozos:\n",
    "    print(pozo)\n",
    "    estadisticas_pozo(df, pozo)"
   ]
  },
  {
   "cell_type": "code",
   "execution_count": 64,
   "id": "e22eb27b",
   "metadata": {},
   "outputs": [
    {
     "name": "stdout",
     "output_type": "stream",
     "text": [
      "==========Estadísticas para el pozo PZ-005==========\n",
      "PZ-005 Producción Total:  314886\n",
      "PZ-005 Media:  1574.43\n",
      "PZ-005 Mediana:  1560.5\n",
      "PZ-005 Desviación Estándar:  231.45993955345804\n",
      "PZ-005 Varianza:  53573.70361809045\n",
      "PZ-005 Máximo:  1996\n",
      "PZ-005 Mínimo:  1201\n",
      "==========Estadísticas para el pozo PZ-004==========\n",
      "PZ-004 Producción Total:  311074\n",
      "PZ-004 Media:  1595.251282051282\n",
      "PZ-004 Mediana:  1616.0\n",
      "PZ-004 Desviación Estándar:  231.2794164871053\n",
      "PZ-004 Varianza:  53490.16849061591\n",
      "PZ-004 Máximo:  1998\n",
      "PZ-004 Mínimo:  1200\n",
      "==========Estadísticas para el pozo PZ-001==========\n",
      "PZ-001 Producción Total:  315631\n",
      "PZ-001 Media:  1578.155\n",
      "PZ-001 Mediana:  1558.5\n",
      "PZ-001 Desviación Estándar:  229.9739792468993\n",
      "PZ-001 Varianza:  52888.03113065327\n",
      "PZ-001 Máximo:  1998\n",
      "PZ-001 Mínimo:  1201\n",
      "==========Estadísticas para el pozo PZ-002==========\n",
      "PZ-002 Producción Total:  334771\n",
      "PZ-002 Media:  1609.4759615384614\n",
      "PZ-002 Mediana:  1630.0\n",
      "PZ-002 Desviación Estándar:  227.42411676856054\n",
      "PZ-002 Varianza:  51721.728887959864\n",
      "PZ-002 Máximo:  1991\n",
      "PZ-002 Mínimo:  1200\n",
      "==========Estadísticas para el pozo PZ-003==========\n",
      "PZ-003 Producción Total:  322991\n",
      "PZ-003 Media:  1639.548223350254\n",
      "PZ-003 Mediana:  1658.0\n",
      "PZ-003 Desviación Estándar:  226.13503722467007\n",
      "PZ-003 Varianza:  51137.05506060292\n",
      "PZ-003 Máximo:  1997\n",
      "PZ-003 Mínimo:  1212\n"
     ]
    }
   ],
   "source": [
    "\n",
    "estadisticas_de_todos_los_pozos(df)"
   ]
  },
  {
   "cell_type": "code",
   "execution_count": 77,
   "id": "05fc1ea1",
   "metadata": {},
   "outputs": [
    {
     "data": {
      "text/html": [
       "<div>\n",
       "<style scoped>\n",
       "    .dataframe tbody tr th:only-of-type {\n",
       "        vertical-align: middle;\n",
       "    }\n",
       "\n",
       "    .dataframe tbody tr th {\n",
       "        vertical-align: top;\n",
       "    }\n",
       "\n",
       "    .dataframe thead th {\n",
       "        text-align: right;\n",
       "    }\n",
       "</style>\n",
       "<table border=\"1\" class=\"dataframe\">\n",
       "  <thead>\n",
       "    <tr style=\"text-align: right;\">\n",
       "      <th></th>\n",
       "      <th>Fecha</th>\n",
       "      <th>Produccion_Barriles</th>\n",
       "      <th>Presion_PSI</th>\n",
       "    </tr>\n",
       "    <tr>\n",
       "      <th>Pozo</th>\n",
       "      <th></th>\n",
       "      <th></th>\n",
       "      <th></th>\n",
       "    </tr>\n",
       "  </thead>\n",
       "  <tbody>\n",
       "    <tr>\n",
       "      <th>PZ-005</th>\n",
       "      <td>2024-05-31</td>\n",
       "      <td>1926</td>\n",
       "      <td>2383</td>\n",
       "    </tr>\n",
       "    <tr>\n",
       "      <th>PZ-004</th>\n",
       "      <td>2024-12-17</td>\n",
       "      <td>1744</td>\n",
       "      <td>2365</td>\n",
       "    </tr>\n",
       "    <tr>\n",
       "      <th>PZ-001</th>\n",
       "      <td>2024-04-04</td>\n",
       "      <td>1245</td>\n",
       "      <td>2235</td>\n",
       "    </tr>\n",
       "    <tr>\n",
       "      <th>PZ-002</th>\n",
       "      <td>2024-01-20</td>\n",
       "      <td>1793</td>\n",
       "      <td>2450</td>\n",
       "    </tr>\n",
       "    <tr>\n",
       "      <th>PZ-001</th>\n",
       "      <td>2024-10-20</td>\n",
       "      <td>1539</td>\n",
       "      <td>2397</td>\n",
       "    </tr>\n",
       "  </tbody>\n",
       "</table>\n",
       "</div>"
      ],
      "text/plain": [
       "             Fecha  Produccion_Barriles  Presion_PSI\n",
       "Pozo                                                \n",
       "PZ-005  2024-05-31                 1926         2383\n",
       "PZ-004  2024-12-17                 1744         2365\n",
       "PZ-001  2024-04-04                 1245         2235\n",
       "PZ-002  2024-01-20                 1793         2450\n",
       "PZ-001  2024-10-20                 1539         2397"
      ]
     },
     "execution_count": 77,
     "metadata": {},
     "output_type": "execute_result"
    }
   ],
   "source": [
    "df2 = pd.read_csv('datos/produccion_petrolera_1000.csv', index_col=0)\n",
    "df2.head()"
   ]
  },
  {
   "cell_type": "code",
   "execution_count": 96,
   "id": "13d21da4",
   "metadata": {},
   "outputs": [
    {
     "name": "stdout",
     "output_type": "stream",
     "text": [
      "Pozo\n",
      "PZ-002    1793\n",
      "PZ-001    1539\n",
      "PZ-004    1363\n",
      "Name: Produccion_Barriles, dtype: int64\n"
     ]
    },
    {
     "data": {
      "text/html": [
       "<div>\n",
       "<style scoped>\n",
       "    .dataframe tbody tr th:only-of-type {\n",
       "        vertical-align: middle;\n",
       "    }\n",
       "\n",
       "    .dataframe tbody tr th {\n",
       "        vertical-align: top;\n",
       "    }\n",
       "\n",
       "    .dataframe thead th {\n",
       "        text-align: right;\n",
       "    }\n",
       "</style>\n",
       "<table border=\"1\" class=\"dataframe\">\n",
       "  <thead>\n",
       "    <tr style=\"text-align: right;\">\n",
       "      <th></th>\n",
       "      <th>Fecha</th>\n",
       "      <th>Presion_PSI</th>\n",
       "    </tr>\n",
       "    <tr>\n",
       "      <th>Pozo</th>\n",
       "      <th></th>\n",
       "      <th></th>\n",
       "    </tr>\n",
       "  </thead>\n",
       "  <tbody>\n",
       "    <tr>\n",
       "      <th>PZ-001</th>\n",
       "      <td>2024-04-04</td>\n",
       "      <td>2235</td>\n",
       "    </tr>\n",
       "    <tr>\n",
       "      <th>PZ-001</th>\n",
       "      <td>2024-10-20</td>\n",
       "      <td>2397</td>\n",
       "    </tr>\n",
       "    <tr>\n",
       "      <th>PZ-001</th>\n",
       "      <td>2024-03-11</td>\n",
       "      <td>2534</td>\n",
       "    </tr>\n",
       "    <tr>\n",
       "      <th>PZ-001</th>\n",
       "      <td>2024-02-03</td>\n",
       "      <td>2282</td>\n",
       "    </tr>\n",
       "    <tr>\n",
       "      <th>PZ-001</th>\n",
       "      <td>2024-05-20</td>\n",
       "      <td>2231</td>\n",
       "    </tr>\n",
       "    <tr>\n",
       "      <th>...</th>\n",
       "      <td>...</td>\n",
       "      <td>...</td>\n",
       "    </tr>\n",
       "    <tr>\n",
       "      <th>PZ-001</th>\n",
       "      <td>2024-09-21</td>\n",
       "      <td>2451</td>\n",
       "    </tr>\n",
       "    <tr>\n",
       "      <th>PZ-001</th>\n",
       "      <td>2024-03-16</td>\n",
       "      <td>2630</td>\n",
       "    </tr>\n",
       "    <tr>\n",
       "      <th>PZ-001</th>\n",
       "      <td>2024-07-05</td>\n",
       "      <td>2582</td>\n",
       "    </tr>\n",
       "    <tr>\n",
       "      <th>PZ-001</th>\n",
       "      <td>2024-07-23</td>\n",
       "      <td>2395</td>\n",
       "    </tr>\n",
       "    <tr>\n",
       "      <th>PZ-001</th>\n",
       "      <td>2024-08-18</td>\n",
       "      <td>2513</td>\n",
       "    </tr>\n",
       "  </tbody>\n",
       "</table>\n",
       "<p>200 rows × 2 columns</p>\n",
       "</div>"
      ],
      "text/plain": [
       "             Fecha  Presion_PSI\n",
       "Pozo                           \n",
       "PZ-001  2024-04-04         2235\n",
       "PZ-001  2024-10-20         2397\n",
       "PZ-001  2024-03-11         2534\n",
       "PZ-001  2024-02-03         2282\n",
       "PZ-001  2024-05-20         2231\n",
       "...            ...          ...\n",
       "PZ-001  2024-09-21         2451\n",
       "PZ-001  2024-03-16         2630\n",
       "PZ-001  2024-07-05         2582\n",
       "PZ-001  2024-07-23         2395\n",
       "PZ-001  2024-08-18         2513\n",
       "\n",
       "[200 rows x 2 columns]"
      ]
     },
     "execution_count": 96,
     "metadata": {},
     "output_type": "execute_result"
    }
   ],
   "source": [
    "print(df2.iloc[3:6,1])  # Selecciona filas 3 a 5\n",
    "df2.loc['PZ-001',['Fecha','Presion_PSI']]  # Selecciona la fila PZ-001 y las columnas Fecha y Produccion_Barriles\n"
   ]
  },
  {
   "cell_type": "code",
   "execution_count": 95,
   "id": "a8b8d27c",
   "metadata": {},
   "outputs": [
    {
     "data": {
      "text/html": [
       "<div>\n",
       "<style scoped>\n",
       "    .dataframe tbody tr th:only-of-type {\n",
       "        vertical-align: middle;\n",
       "    }\n",
       "\n",
       "    .dataframe tbody tr th {\n",
       "        vertical-align: top;\n",
       "    }\n",
       "\n",
       "    .dataframe thead th {\n",
       "        text-align: right;\n",
       "    }\n",
       "</style>\n",
       "<table border=\"1\" class=\"dataframe\">\n",
       "  <thead>\n",
       "    <tr style=\"text-align: right;\">\n",
       "      <th></th>\n",
       "      <th>Fecha</th>\n",
       "      <th>Produccion_Barriles</th>\n",
       "      <th>Presion_PSI</th>\n",
       "    </tr>\n",
       "    <tr>\n",
       "      <th>Pozo</th>\n",
       "      <th></th>\n",
       "      <th></th>\n",
       "      <th></th>\n",
       "    </tr>\n",
       "  </thead>\n",
       "  <tbody>\n",
       "    <tr>\n",
       "      <th>PZ-001</th>\n",
       "      <td>2024-04-04</td>\n",
       "      <td>1245</td>\n",
       "      <td>2235</td>\n",
       "    </tr>\n",
       "    <tr>\n",
       "      <th>PZ-001</th>\n",
       "      <td>2024-10-20</td>\n",
       "      <td>1539</td>\n",
       "      <td>2397</td>\n",
       "    </tr>\n",
       "    <tr>\n",
       "      <th>PZ-001</th>\n",
       "      <td>2024-03-11</td>\n",
       "      <td>1671</td>\n",
       "      <td>2534</td>\n",
       "    </tr>\n",
       "    <tr>\n",
       "      <th>PZ-001</th>\n",
       "      <td>2024-02-03</td>\n",
       "      <td>1355</td>\n",
       "      <td>2282</td>\n",
       "    </tr>\n",
       "    <tr>\n",
       "      <th>PZ-001</th>\n",
       "      <td>2024-05-20</td>\n",
       "      <td>1864</td>\n",
       "      <td>2231</td>\n",
       "    </tr>\n",
       "    <tr>\n",
       "      <th>...</th>\n",
       "      <td>...</td>\n",
       "      <td>...</td>\n",
       "      <td>...</td>\n",
       "    </tr>\n",
       "    <tr>\n",
       "      <th>PZ-001</th>\n",
       "      <td>2024-09-21</td>\n",
       "      <td>1900</td>\n",
       "      <td>2451</td>\n",
       "    </tr>\n",
       "    <tr>\n",
       "      <th>PZ-001</th>\n",
       "      <td>2024-03-16</td>\n",
       "      <td>1353</td>\n",
       "      <td>2630</td>\n",
       "    </tr>\n",
       "    <tr>\n",
       "      <th>PZ-001</th>\n",
       "      <td>2024-07-05</td>\n",
       "      <td>1428</td>\n",
       "      <td>2582</td>\n",
       "    </tr>\n",
       "    <tr>\n",
       "      <th>PZ-001</th>\n",
       "      <td>2024-07-23</td>\n",
       "      <td>1951</td>\n",
       "      <td>2395</td>\n",
       "    </tr>\n",
       "    <tr>\n",
       "      <th>PZ-001</th>\n",
       "      <td>2024-08-18</td>\n",
       "      <td>1377</td>\n",
       "      <td>2513</td>\n",
       "    </tr>\n",
       "  </tbody>\n",
       "</table>\n",
       "<p>200 rows × 3 columns</p>\n",
       "</div>"
      ],
      "text/plain": [
       "             Fecha  Produccion_Barriles  Presion_PSI\n",
       "Pozo                                                \n",
       "PZ-001  2024-04-04                 1245         2235\n",
       "PZ-001  2024-10-20                 1539         2397\n",
       "PZ-001  2024-03-11                 1671         2534\n",
       "PZ-001  2024-02-03                 1355         2282\n",
       "PZ-001  2024-05-20                 1864         2231\n",
       "...            ...                  ...          ...\n",
       "PZ-001  2024-09-21                 1900         2451\n",
       "PZ-001  2024-03-16                 1353         2630\n",
       "PZ-001  2024-07-05                 1428         2582\n",
       "PZ-001  2024-07-23                 1951         2395\n",
       "PZ-001  2024-08-18                 1377         2513\n",
       "\n",
       "[200 rows x 3 columns]"
      ]
     },
     "execution_count": 95,
     "metadata": {},
     "output_type": "execute_result"
    }
   ],
   "source": [
    "df2.loc['PZ-001','Fecha':'Presion_PSI']  # Selecciona filas PZ-001 a PZ-003 y las columnas Fecha y Produccion_Barriles"
   ]
  },
  {
   "cell_type": "markdown",
   "id": "64b2ee46",
   "metadata": {},
   "source": [
    "## Visualización con Matplotlib"
   ]
  },
  {
   "cell_type": "code",
   "execution_count": 97,
   "id": "eec3fa21",
   "metadata": {},
   "outputs": [],
   "source": [
    "import matplotlib.pyplot as plt"
   ]
  },
  {
   "cell_type": "code",
   "execution_count": 106,
   "id": "9062837e",
   "metadata": {},
   "outputs": [
    {
     "data": {
      "image/png": "[encoded data removed]",
      "text/plain": [
       "<Figure size 640x480 with 1 Axes>"
      ]
     },
     "metadata": {},
     "output_type": "display_data"
    }
   ],
   "source": [
    "\n",
    "plt.bar(df2.index, df2['Produccion_Barriles'], color='darkgreen')\n",
    "plt.title('Producción por Pozos')\n",
    "plt.xlabel('Pozos')\n",
    "plt.ylabel('Producción (Barriles)')\n",
    "plt.xticks(rotation=45)\n",
    "plt.tight_layout()\n",
    "plt.grid(True)\n",
    "plt.show()"
   ]
  },
  {
   "cell_type": "markdown",
   "id": "aa984be8",
   "metadata": {},
   "source": [
    "## Quiz Final"
   ]
  },
  {
   "cell_type": "markdown",
   "id": "1e8fbc43",
   "metadata": {},
   "source": [
    "\n",
    "1. ¿Qué librería usamos para manejar datos en forma de tabla?\n",
    "   - a) numpy\n",
    "   - b) matplotlib\n",
    "   - c) pandas \n",
    "\n",
    "2. ¿Cuál es la salida de `np.mean([1, 2, 3, 4])`?\n",
    "   - a) 2.5 \n",
    "   - b) 4\n",
    "   - c) 10\n",
    "\n",
    "3. Verdadero o falso: matplotlib se usa para visualizar datos. \n",
    "\n",
    "4. ¿Qué método de pandas calcula la media de una columna?\n",
    "   - a) .sum()\n",
    "   - b) .describe()\n",
    "   - c) .mean() \n",
    "\n",
    "5. En una clase Python, ¿cómo definimos el constructor?\n",
    "   - a) `__init__` \n",
    "   - b) `construct`\n",
    "   - c) `start`\n"
   ]
  },
  {
   "cell_type": "markdown",
   "id": "484a3d08",
   "metadata": {},
   "source": [
    "## RESPUESTAS"
   ]
  }
 ],
 "metadata": {
  "kernelspec": {
   "display_name": "Python 3",
   "language": "python",
   "name": "python3"
  },
  "language_info": {
   "codemirror_mode": {
    "name": "ipython",
    "version": 3
   },
   "file_extension": ".py",
   "mimetype": "text/x-python",
   "name": "python",
   "nbconvert_exporter": "python",
   "pygments_lexer": "ipython3",
   "version": "3.12.1"
  }
 },
 "nbformat": 4,
 "nbformat_minor": 5
}
