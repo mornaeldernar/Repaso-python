{
 "cells": [
  {
   "cell_type": "markdown",
   "id": "cd25e638",
   "metadata": {},
   "source": [
    "# Curso de Repaso de Python"
   ]
  },
  {
   "cell_type": "markdown",
   "id": "9e48d1c1",
   "metadata": {},
   "source": [
    "## Fundamentos de Python"
   ]
  },
  {
   "cell_type": "code",
   "execution_count": null,
   "id": "4f0afaa2",
   "metadata": {
    "vscode": {
     "languageId": "plaintext"
    }
   },
   "outputs": [],
   "source": []
  },
  {
   "cell_type": "markdown",
   "id": "f8869de6",
   "metadata": {},
   "source": [
    "## Programación Orientada a Objetos"
   ]
  },
  {
   "cell_type": "code",
   "execution_count": null,
   "id": "f8934846",
   "metadata": {
    "vscode": {
     "languageId": "plaintext"
    }
   },
   "outputs": [],
   "source": []
  },
  {
   "cell_type": "markdown",
   "id": "2c3af1bb",
   "metadata": {},
   "source": [
    "## Operaciones con Listas"
   ]
  },
  {
   "cell_type": "code",
   "execution_count": null,
   "id": "6c5b741a",
   "metadata": {
    "vscode": {
     "languageId": "plaintext"
    }
   },
   "outputs": [],
   "source": []
  },
  {
   "cell_type": "markdown",
   "id": "8f8ca45c",
   "metadata": {},
   "source": [
    "## Análisis Estadístico con NumPy"
   ]
  },
  {
   "cell_type": "code",
   "execution_count": null,
   "id": "77e1251e",
   "metadata": {
    "vscode": {
     "languageId": "plaintext"
    }
   },
   "outputs": [],
   "source": []
  },
  {
   "cell_type": "markdown",
   "id": "0c5470e6",
   "metadata": {},
   "source": [
    "## Análisis con pandas"
   ]
  },
  {
   "cell_type": "code",
   "execution_count": null,
   "id": "872bed37",
   "metadata": {
    "vscode": {
     "languageId": "plaintext"
    }
   },
   "outputs": [],
   "source": []
  },
  {
   "cell_type": "markdown",
   "id": "64b2ee46",
   "metadata": {},
   "source": [
    "## Visualización con Matplotlib"
   ]
  },
  {
   "cell_type": "code",
   "execution_count": null,
   "id": "eec3fa21",
   "metadata": {
    "vscode": {
     "languageId": "plaintext"
    }
   },
   "outputs": [],
   "source": []
  },
  {
   "cell_type": "markdown",
   "id": "aa984be8",
   "metadata": {},
   "source": [
    "## Quiz Final"
   ]
  },
  {
   "cell_type": "markdown",
   "id": "1e8fbc43",
   "metadata": {},
   "source": [
    "\n",
    "1. ¿Qué librería usamos para manejar datos en forma de tabla?\n",
    "   - a) numpy\n",
    "   - b) matplotlib\n",
    "   - c) pandas \n",
    "\n",
    "2. ¿Cuál es la salida de `np.mean([1, 2, 3, 4])`?\n",
    "   - a) 2.5 \n",
    "   - b) 4\n",
    "   - c) 10\n",
    "\n",
    "3. Verdadero o falso: matplotlib se usa para visualizar datos. \n",
    "\n",
    "4. ¿Qué método de pandas calcula la media de una columna?\n",
    "   - a) .sum()\n",
    "   - b) .describe()\n",
    "   - c) .mean() \n",
    "\n",
    "5. En una clase Python, ¿cómo definimos el constructor?\n",
    "   - a) `__init__` \n",
    "   - b) `construct`\n",
    "   - c) `start`\n"
   ]
  },
  {
   "cell_type": "markdown",
   "id": "484a3d08",
   "metadata": {},
   "source": [
    "## RESPUESTAS"
   ]
  },
  {
   "cell_type": "markdown",
   "id": "3e3a35e3",
   "metadata": {},
   "source": [
    "1. C\n",
    "2. A\n",
    "3. Verdadero\n",
    "4. C\n",
    "5. A"
   ]
  }
 ],
 "metadata": {
  "language_info": {
   "name": "python"
  }
 },
 "nbformat": 4,
 "nbformat_minor": 5
}
