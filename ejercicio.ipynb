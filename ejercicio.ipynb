{
 "cells": [
  {
   "cell_type": "markdown",
   "id": "6e970dcf",
   "metadata": {},
   "source": [
    "Ejercicio: Análisis de Producción Petrolera\n",
    "Objetivo: Cargar un archivo CSV, analizar información clave y visualizar los resultados."
   ]
  },
  {
   "cell_type": "code",
   "execution_count": null,
   "id": "649776d8",
   "metadata": {},
   "outputs": [],
   "source": []
  },
  {
   "cell_type": "markdown",
   "id": "c1991803",
   "metadata": {},
   "source": [
    "Paso 2: Análisis básico\n",
    "¿Cuántos registros hay por pozo?\n",
    "\n",
    "¿Cuál es el promedio de producción de cada pozo?\n",
    "\n",
    "¿Qué pozo tiene la presión media más alta?"
   ]
  },
  {
   "cell_type": "code",
   "execution_count": null,
   "id": "29b151c4",
   "metadata": {},
   "outputs": [],
   "source": []
  },
  {
   "cell_type": "markdown",
   "id": "5dc290e4",
   "metadata": {},
   "source": [
    " Paso 3: Visualización\n",
    "Crea un gráfico de barras con el promedio de producción por pozo.\n",
    "\n",
    "Haz un gráfico de líneas que muestre la producción promedio por fecha (agregando por día)."
   ]
  },
  {
   "cell_type": "code",
   "execution_count": null,
   "id": "4500787f",
   "metadata": {},
   "outputs": [],
   "source": []
  },
  {
   "cell_type": "markdown",
   "id": "a4d42409",
   "metadata": {},
   "source": [
    "🧠 Pregunta adicional\n",
    "¿Qué tipo de relación observas entre la fecha y la producción promedio diaria? ¿Algún patrón o tendencia?"
   ]
  }
 ],
 "metadata": {
  "language_info": {
   "name": "python"
  }
 },
 "nbformat": 4,
 "nbformat_minor": 5
}
